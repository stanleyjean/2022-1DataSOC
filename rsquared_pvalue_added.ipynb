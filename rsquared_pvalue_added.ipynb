{
 "cells": [
  {
   "cell_type": "code",
   "execution_count": 38,
   "metadata": {
    "vscode": {
     "languageId": "r"
    }
   },
   "outputs": [
    {
     "data": {
      "text/html": [
       "'C:/A/FINAL/data'"
      ],
      "text/latex": [
       "'C:/A/FINAL/data'"
      ],
      "text/markdown": [
       "'C:/A/FINAL/data'"
      ],
      "text/plain": [
       "[1] \"C:/A/FINAL/data\""
      ]
     },
     "metadata": {},
     "output_type": "display_data"
    }
   ],
   "source": [
    "library(tidyverse)\n",
    "library(ggthemes)\n",
    "setwd(\"C:/A/FINAL/data\")\n",
    "getwd()"
   ]
  },
  {
   "cell_type": "code",
   "execution_count": 39,
   "metadata": {
    "vscode": {
     "languageId": "r"
    }
   },
   "outputs": [
    {
     "data": {
      "text/html": [
       "<style>\n",
       ".list-inline {list-style: none; margin:0; padding: 0}\n",
       ".list-inline>li {display: inline-block}\n",
       ".list-inline>li:not(:last-child)::after {content: \"\\00b7\"; padding: 0 .5ex}\n",
       "</style>\n",
       "<ol class=list-inline><li>'aa'</li><li>'c1'</li><li>'c11'</li><li>'c12'</li><li>'c13'</li><li>'c14'</li><li>'c15'</li><li>'ccc'</li><li>'combined_cor'</li><li>'cor_un'</li><li>'data_label'</li><li>'extracted_data'</li><li>'filename'</li><li>'i'</li><li>'kr_data'</li><li>'ll'</li><li>'lm_data'</li><li>'mean_suicide_rate'</li><li>'mycolors'</li><li>'mydata'</li><li>'nb.cols'</li><li>'reason'</li><li>'ref'</li><li>'region_name'</li><li>'region_name_KR'</li><li>'relation_value_1'</li><li>'relation_value_2'</li><li>'relation_value_3'</li><li>'relation_value_4'</li><li>'relation_value_5'</li><li>'suicide_rate'</li><li>'temp'</li><li>'temp1'</li><li>'the_whole_data_of_all_vars'</li><li>'tt'</li><li>'unsc_slct'</li><li>'var_data'</li><li>'year'</li></ol>\n"
      ],
      "text/latex": [
       "\\begin{enumerate*}\n",
       "\\item 'aa'\n",
       "\\item 'c1'\n",
       "\\item 'c11'\n",
       "\\item 'c12'\n",
       "\\item 'c13'\n",
       "\\item 'c14'\n",
       "\\item 'c15'\n",
       "\\item 'ccc'\n",
       "\\item 'combined\\_cor'\n",
       "\\item 'cor\\_un'\n",
       "\\item 'data\\_label'\n",
       "\\item 'extracted\\_data'\n",
       "\\item 'filename'\n",
       "\\item 'i'\n",
       "\\item 'kr\\_data'\n",
       "\\item 'll'\n",
       "\\item 'lm\\_data'\n",
       "\\item 'mean\\_suicide\\_rate'\n",
       "\\item 'mycolors'\n",
       "\\item 'mydata'\n",
       "\\item 'nb.cols'\n",
       "\\item 'reason'\n",
       "\\item 'ref'\n",
       "\\item 'region\\_name'\n",
       "\\item 'region\\_name\\_KR'\n",
       "\\item 'relation\\_value\\_1'\n",
       "\\item 'relation\\_value\\_2'\n",
       "\\item 'relation\\_value\\_3'\n",
       "\\item 'relation\\_value\\_4'\n",
       "\\item 'relation\\_value\\_5'\n",
       "\\item 'suicide\\_rate'\n",
       "\\item 'temp'\n",
       "\\item 'temp1'\n",
       "\\item 'the\\_whole\\_data\\_of\\_all\\_vars'\n",
       "\\item 'tt'\n",
       "\\item 'unsc\\_slct'\n",
       "\\item 'var\\_data'\n",
       "\\item 'year'\n",
       "\\end{enumerate*}\n"
      ],
      "text/markdown": [
       "1. 'aa'\n",
       "2. 'c1'\n",
       "3. 'c11'\n",
       "4. 'c12'\n",
       "5. 'c13'\n",
       "6. 'c14'\n",
       "7. 'c15'\n",
       "8. 'ccc'\n",
       "9. 'combined_cor'\n",
       "10. 'cor_un'\n",
       "11. 'data_label'\n",
       "12. 'extracted_data'\n",
       "13. 'filename'\n",
       "14. 'i'\n",
       "15. 'kr_data'\n",
       "16. 'll'\n",
       "17. 'lm_data'\n",
       "18. 'mean_suicide_rate'\n",
       "19. 'mycolors'\n",
       "20. 'mydata'\n",
       "21. 'nb.cols'\n",
       "22. 'reason'\n",
       "23. 'ref'\n",
       "24. 'region_name'\n",
       "25. 'region_name_KR'\n",
       "26. 'relation_value_1'\n",
       "27. 'relation_value_2'\n",
       "28. 'relation_value_3'\n",
       "29. 'relation_value_4'\n",
       "30. 'relation_value_5'\n",
       "31. 'suicide_rate'\n",
       "32. 'temp'\n",
       "33. 'temp1'\n",
       "34. 'the_whole_data_of_all_vars'\n",
       "35. 'tt'\n",
       "36. 'unsc_slct'\n",
       "37. 'var_data'\n",
       "38. 'year'\n",
       "\n",
       "\n"
      ],
      "text/plain": [
       " [1] \"aa\"                         \"c1\"                        \n",
       " [3] \"c11\"                        \"c12\"                       \n",
       " [5] \"c13\"                        \"c14\"                       \n",
       " [7] \"c15\"                        \"ccc\"                       \n",
       " [9] \"combined_cor\"               \"cor_un\"                    \n",
       "[11] \"data_label\"                 \"extracted_data\"            \n",
       "[13] \"filename\"                   \"i\"                         \n",
       "[15] \"kr_data\"                    \"ll\"                        \n",
       "[17] \"lm_data\"                    \"mean_suicide_rate\"         \n",
       "[19] \"mycolors\"                   \"mydata\"                    \n",
       "[21] \"nb.cols\"                    \"reason\"                    \n",
       "[23] \"ref\"                        \"region_name\"               \n",
       "[25] \"region_name_KR\"             \"relation_value_1\"          \n",
       "[27] \"relation_value_2\"           \"relation_value_3\"          \n",
       "[29] \"relation_value_4\"           \"relation_value_5\"          \n",
       "[31] \"suicide_rate\"               \"temp\"                      \n",
       "[33] \"temp1\"                      \"the_whole_data_of_all_vars\"\n",
       "[35] \"tt\"                         \"unsc_slct\"                 \n",
       "[37] \"var_data\"                   \"year\"                      "
      ]
     },
     "metadata": {},
     "output_type": "display_data"
    }
   ],
   "source": [
    "load(\"usage.RData\")\n",
    "ls()"
   ]
  },
  {
   "cell_type": "code",
   "execution_count": 40,
   "metadata": {
    "vscode": {
     "languageId": "r"
    }
   },
   "outputs": [],
   "source": [
    "unsc_slct <- unsc_slct %>% mutate(year = as.numeric(as.character(year)))"
   ]
  },
  {
   "cell_type": "code",
   "execution_count": 41,
   "metadata": {
    "vscode": {
     "languageId": "r"
    }
   },
   "outputs": [
    {
     "name": "stdout",
     "output_type": "stream",
     "text": [
      "\u001b[90m# A tibble: 160 × 8\u001b[39m\n",
      "   region  year healthy_life temperature population divorce_number_per_populati…\n",
      "   \u001b[3m\u001b[90m<fct>\u001b[39m\u001b[23m  \u001b[3m\u001b[90m<dbl>\u001b[39m\u001b[23m        \u001b[3m\u001b[90m<dbl>\u001b[39m\u001b[23m       \u001b[3m\u001b[90m<dbl>\u001b[39m\u001b[23m      \u001b[3m\u001b[90m<dbl>\u001b[39m\u001b[23m                        \u001b[3m\u001b[90m<dbl>\u001b[39m\u001b[23m\n",
      "\u001b[90m 1\u001b[39m 강원    \u001b[4m2\u001b[24m011         23.7        10.5    1\u001b[4m5\u001b[24m\u001b[4m3\u001b[24m\u001b[4m6\u001b[24m448                      0.002\u001b[4m3\u001b[24m\u001b[4m2\u001b[24m\n",
      "\u001b[90m 2\u001b[39m 강원    \u001b[4m2\u001b[24m012         19.5        10.5    1\u001b[4m5\u001b[24m\u001b[4m3\u001b[24m\u001b[4m8\u001b[24m630                      0.002\u001b[4m3\u001b[24m\u001b[4m1\u001b[24m\n",
      "\u001b[90m 3\u001b[39m 강원    \u001b[4m2\u001b[24m013         21.9        11.2    1\u001b[4m5\u001b[24m\u001b[4m4\u001b[24m\u001b[4m2\u001b[24m263                      0.002\u001b[4m4\u001b[24m\u001b[4m2\u001b[24m\n",
      "\u001b[90m 4\u001b[39m 강원    \u001b[4m2\u001b[24m014         22.3        11.7    1\u001b[4m5\u001b[24m\u001b[4m4\u001b[24m\u001b[4m4\u001b[24m442                      0.002\u001b[4m3\u001b[24m\u001b[4m5\u001b[24m\n",
      "\u001b[90m 5\u001b[39m 강원    \u001b[4m2\u001b[24m015         21.8        12      1\u001b[4m5\u001b[24m\u001b[4m4\u001b[24m\u001b[4m9\u001b[24m507                      0.002\u001b[4m2\u001b[24m\u001b[4m5\u001b[24m\n",
      "\u001b[90m 6\u001b[39m 강원    \u001b[4m2\u001b[24m016         22.3        12      1\u001b[4m5\u001b[24m\u001b[4m5\u001b[24m\u001b[4m0\u001b[24m806                      0.002\u001b[4m2\u001b[24m\u001b[4m5\u001b[24m\n",
      "\u001b[90m 7\u001b[39m 강원    \u001b[4m2\u001b[24m017         20.8        11.5    1\u001b[4m5\u001b[24m\u001b[4m5\u001b[24m\u001b[4m0\u001b[24m142                      0.002\u001b[4m1\u001b[24m\u001b[4m0\u001b[24m\n",
      "\u001b[90m 8\u001b[39m 강원    \u001b[4m2\u001b[24m018         25.5        11.3    1\u001b[4m5\u001b[24m\u001b[4m4\u001b[24m\u001b[4m3\u001b[24m052                      0.002\u001b[4m2\u001b[24m\u001b[4m2\u001b[24m\n",
      "\u001b[90m 9\u001b[39m 강원    \u001b[4m2\u001b[24m019         24.8        12      1\u001b[4m5\u001b[24m\u001b[4m4\u001b[24m\u001b[4m1\u001b[24m502                      0.002\u001b[4m3\u001b[24m\u001b[4m5\u001b[24m\n",
      "\u001b[90m10\u001b[39m 강원    \u001b[4m2\u001b[24m020         23.9        11.7    1\u001b[4m5\u001b[24m\u001b[4m4\u001b[24m\u001b[4m2\u001b[24m840                      0.002\u001b[4m1\u001b[24m\u001b[4m8\u001b[24m\n",
      "\u001b[90m# … with 150 more rows, and 2 more variables: income_per_capita <dbl>,\u001b[39m\n",
      "\u001b[90m#   suicide_rate <dbl>\u001b[39m\n"
     ]
    }
   ],
   "source": [
    "year <- unique(unsc_slct %>% select(year))\n",
    "year <- c(year)\n",
    "for(i in year){\n",
    "    print(unsc_slct %>% filter(year == i))\n",
    "}"
   ]
  },
  {
   "cell_type": "code",
   "execution_count": 42,
   "metadata": {
    "vscode": {
     "languageId": "r"
    }
   },
   "outputs": [
    {
     "data": {
      "text/html": [
       "<table class=\"dataframe\">\n",
       "<caption>A tibble: 6 × 5</caption>\n",
       "<thead>\n",
       "\t<tr><th scope=col>year</th><th scope=col>r_squared</th><th scope=col>r_adj</th><th scope=col>p_value</th><th scope=col>variable</th></tr>\n",
       "\t<tr><th scope=col>&lt;fct&gt;</th><th scope=col>&lt;dbl&gt;</th><th scope=col>&lt;dbl&gt;</th><th scope=col>&lt;dbl&gt;</th><th scope=col>&lt;chr&gt;</th></tr>\n",
       "</thead>\n",
       "<tbody>\n",
       "\t<tr><td>2011</td><td>0.2695249</td><td>0.21734806</td><td>0.03932433</td><td>temperature</td></tr>\n",
       "\t<tr><td>2012</td><td>0.2029666</td><td>0.14603562</td><td>0.07990552</td><td>temperature</td></tr>\n",
       "\t<tr><td>2013</td><td>0.1593572</td><td>0.09931133</td><td>0.12558089</td><td>temperature</td></tr>\n",
       "\t<tr><td>2014</td><td>0.2740330</td><td>0.22217818</td><td>0.03743318</td><td>temperature</td></tr>\n",
       "\t<tr><td>2015</td><td>0.2418042</td><td>0.18764732</td><td>0.05303811</td><td>temperature</td></tr>\n",
       "\t<tr><td>2016</td><td>0.2487755</td><td>0.19511664</td><td>0.04922332</td><td>temperature</td></tr>\n",
       "</tbody>\n",
       "</table>\n"
      ],
      "text/latex": [
       "A tibble: 6 × 5\n",
       "\\begin{tabular}{lllll}\n",
       " year & r\\_squared & r\\_adj & p\\_value & variable\\\\\n",
       " <fct> & <dbl> & <dbl> & <dbl> & <chr>\\\\\n",
       "\\hline\n",
       "\t 2011 & 0.2695249 & 0.21734806 & 0.03932433 & temperature\\\\\n",
       "\t 2012 & 0.2029666 & 0.14603562 & 0.07990552 & temperature\\\\\n",
       "\t 2013 & 0.1593572 & 0.09931133 & 0.12558089 & temperature\\\\\n",
       "\t 2014 & 0.2740330 & 0.22217818 & 0.03743318 & temperature\\\\\n",
       "\t 2015 & 0.2418042 & 0.18764732 & 0.05303811 & temperature\\\\\n",
       "\t 2016 & 0.2487755 & 0.19511664 & 0.04922332 & temperature\\\\\n",
       "\\end{tabular}\n"
      ],
      "text/markdown": [
       "\n",
       "A tibble: 6 × 5\n",
       "\n",
       "| year &lt;fct&gt; | r_squared &lt;dbl&gt; | r_adj &lt;dbl&gt; | p_value &lt;dbl&gt; | variable &lt;chr&gt; |\n",
       "|---|---|---|---|---|\n",
       "| 2011 | 0.2695249 | 0.21734806 | 0.03932433 | temperature |\n",
       "| 2012 | 0.2029666 | 0.14603562 | 0.07990552 | temperature |\n",
       "| 2013 | 0.1593572 | 0.09931133 | 0.12558089 | temperature |\n",
       "| 2014 | 0.2740330 | 0.22217818 | 0.03743318 | temperature |\n",
       "| 2015 | 0.2418042 | 0.18764732 | 0.05303811 | temperature |\n",
       "| 2016 | 0.2487755 | 0.19511664 | 0.04922332 | temperature |\n",
       "\n"
      ],
      "text/plain": [
       "  year r_squared r_adj      p_value    variable   \n",
       "1 2011 0.2695249 0.21734806 0.03932433 temperature\n",
       "2 2012 0.2029666 0.14603562 0.07990552 temperature\n",
       "3 2013 0.1593572 0.09931133 0.12558089 temperature\n",
       "4 2014 0.2740330 0.22217818 0.03743318 temperature\n",
       "5 2015 0.2418042 0.18764732 0.05303811 temperature\n",
       "6 2016 0.2487755 0.19511664 0.04922332 temperature"
      ]
     },
     "metadata": {},
     "output_type": "display_data"
    }
   ],
   "source": [
    "aa <- tibble(r_squared = double(), \n",
    "             year  = double(), r_adj = double(),\n",
    "             p_value = double())\n",
    "for(i in 2011:2020){\n",
    "    temp <- summary(unsc_slct %>% filter(year == i) %>%\n",
    "  lm(suicide_rate ~ temperature, data = .))\n",
    "tt <- tibble(year = i, r_squared = temp$r.squared, r_adj = temp$adj.r.squared,\n",
    "              p_value = temp$coefficients[, 4][2])\n",
    "aa <- bind_rows(aa, tt)\n",
    "}\n",
    "relation_value_1 <- aa %>% relocate(year) %>%\n",
    "                  mutate(year = as_factor(year), variable = 'temperature')\n",
    "relation_value_1 %>% head"
   ]
  },
  {
   "cell_type": "code",
   "execution_count": 43,
   "metadata": {
    "vscode": {
     "languageId": "r"
    }
   },
   "outputs": [
    {
     "data": {
      "text/html": [
       "<table class=\"dataframe\">\n",
       "<caption>A tibble: 6 × 5</caption>\n",
       "<thead>\n",
       "\t<tr><th scope=col>year</th><th scope=col>r_squared</th><th scope=col>r_adj</th><th scope=col>p_value</th><th scope=col>variable</th></tr>\n",
       "\t<tr><th scope=col>&lt;fct&gt;</th><th scope=col>&lt;dbl&gt;</th><th scope=col>&lt;dbl&gt;</th><th scope=col>&lt;dbl&gt;</th><th scope=col>&lt;chr&gt;</th></tr>\n",
       "</thead>\n",
       "<tbody>\n",
       "\t<tr><td>2011</td><td>0.2695249</td><td>0.21734806</td><td>0.03932433</td><td>income_per_capita</td></tr>\n",
       "\t<tr><td>2012</td><td>0.2029666</td><td>0.14603562</td><td>0.07990552</td><td>income_per_capita</td></tr>\n",
       "\t<tr><td>2013</td><td>0.1593572</td><td>0.09931133</td><td>0.12558089</td><td>income_per_capita</td></tr>\n",
       "\t<tr><td>2014</td><td>0.2740330</td><td>0.22217818</td><td>0.03743318</td><td>income_per_capita</td></tr>\n",
       "\t<tr><td>2015</td><td>0.2418042</td><td>0.18764732</td><td>0.05303811</td><td>income_per_capita</td></tr>\n",
       "\t<tr><td>2016</td><td>0.2487755</td><td>0.19511664</td><td>0.04922332</td><td>income_per_capita</td></tr>\n",
       "</tbody>\n",
       "</table>\n"
      ],
      "text/latex": [
       "A tibble: 6 × 5\n",
       "\\begin{tabular}{lllll}\n",
       " year & r\\_squared & r\\_adj & p\\_value & variable\\\\\n",
       " <fct> & <dbl> & <dbl> & <dbl> & <chr>\\\\\n",
       "\\hline\n",
       "\t 2011 & 0.2695249 & 0.21734806 & 0.03932433 & income\\_per\\_capita\\\\\n",
       "\t 2012 & 0.2029666 & 0.14603562 & 0.07990552 & income\\_per\\_capita\\\\\n",
       "\t 2013 & 0.1593572 & 0.09931133 & 0.12558089 & income\\_per\\_capita\\\\\n",
       "\t 2014 & 0.2740330 & 0.22217818 & 0.03743318 & income\\_per\\_capita\\\\\n",
       "\t 2015 & 0.2418042 & 0.18764732 & 0.05303811 & income\\_per\\_capita\\\\\n",
       "\t 2016 & 0.2487755 & 0.19511664 & 0.04922332 & income\\_per\\_capita\\\\\n",
       "\\end{tabular}\n"
      ],
      "text/markdown": [
       "\n",
       "A tibble: 6 × 5\n",
       "\n",
       "| year &lt;fct&gt; | r_squared &lt;dbl&gt; | r_adj &lt;dbl&gt; | p_value &lt;dbl&gt; | variable &lt;chr&gt; |\n",
       "|---|---|---|---|---|\n",
       "| 2011 | 0.2695249 | 0.21734806 | 0.03932433 | income_per_capita |\n",
       "| 2012 | 0.2029666 | 0.14603562 | 0.07990552 | income_per_capita |\n",
       "| 2013 | 0.1593572 | 0.09931133 | 0.12558089 | income_per_capita |\n",
       "| 2014 | 0.2740330 | 0.22217818 | 0.03743318 | income_per_capita |\n",
       "| 2015 | 0.2418042 | 0.18764732 | 0.05303811 | income_per_capita |\n",
       "| 2016 | 0.2487755 | 0.19511664 | 0.04922332 | income_per_capita |\n",
       "\n"
      ],
      "text/plain": [
       "  year r_squared r_adj      p_value    variable         \n",
       "1 2011 0.2695249 0.21734806 0.03932433 income_per_capita\n",
       "2 2012 0.2029666 0.14603562 0.07990552 income_per_capita\n",
       "3 2013 0.1593572 0.09931133 0.12558089 income_per_capita\n",
       "4 2014 0.2740330 0.22217818 0.03743318 income_per_capita\n",
       "5 2015 0.2418042 0.18764732 0.05303811 income_per_capita\n",
       "6 2016 0.2487755 0.19511664 0.04922332 income_per_capita"
      ]
     },
     "metadata": {},
     "output_type": "display_data"
    }
   ],
   "source": [
    "aa <- tibble(r_squared = double(), \n",
    "             year  = double(), r_adj = double(),\n",
    "             p_value = double())\n",
    "for(i in 2011:2020){\n",
    "    temp <- summary(unsc_slct %>% filter(year == i) %>%\n",
    "  lm(suicide_rate ~ temperature, data = .))\n",
    "\n",
    "tt <- tibble(year = i, r_squared = temp$r.squared, r_adj = temp$adj.r.squared,\n",
    "              p_value = temp$coefficients[, 4][2])\n",
    "\n",
    "aa <- bind_rows(aa, tt)\n",
    "}\n",
    "relation_value_2 <- aa %>% relocate(year) %>%\n",
    "                  mutate(year = as_factor(year), variable = 'income_per_capita')\n",
    "relation_value_2 %>% head"
   ]
  },
  {
   "cell_type": "code",
   "execution_count": 44,
   "metadata": {
    "vscode": {
     "languageId": "r"
    }
   },
   "outputs": [
    {
     "data": {
      "text/html": [
       "<table class=\"dataframe\">\n",
       "<caption>A tibble: 6 × 5</caption>\n",
       "<thead>\n",
       "\t<tr><th scope=col>year</th><th scope=col>r_squared</th><th scope=col>r_adj</th><th scope=col>p_value</th><th scope=col>variable</th></tr>\n",
       "\t<tr><th scope=col>&lt;fct&gt;</th><th scope=col>&lt;dbl&gt;</th><th scope=col>&lt;dbl&gt;</th><th scope=col>&lt;dbl&gt;</th><th scope=col>&lt;chr&gt;</th></tr>\n",
       "</thead>\n",
       "<tbody>\n",
       "\t<tr><td>2011</td><td>0.2695249</td><td>0.21734806</td><td>0.03932433</td><td>divorce_number_per_population</td></tr>\n",
       "\t<tr><td>2012</td><td>0.2029666</td><td>0.14603562</td><td>0.07990552</td><td>divorce_number_per_population</td></tr>\n",
       "\t<tr><td>2013</td><td>0.1593572</td><td>0.09931133</td><td>0.12558089</td><td>divorce_number_per_population</td></tr>\n",
       "\t<tr><td>2014</td><td>0.2740330</td><td>0.22217818</td><td>0.03743318</td><td>divorce_number_per_population</td></tr>\n",
       "\t<tr><td>2015</td><td>0.2418042</td><td>0.18764732</td><td>0.05303811</td><td>divorce_number_per_population</td></tr>\n",
       "\t<tr><td>2016</td><td>0.2487755</td><td>0.19511664</td><td>0.04922332</td><td>divorce_number_per_population</td></tr>\n",
       "</tbody>\n",
       "</table>\n"
      ],
      "text/latex": [
       "A tibble: 6 × 5\n",
       "\\begin{tabular}{lllll}\n",
       " year & r\\_squared & r\\_adj & p\\_value & variable\\\\\n",
       " <fct> & <dbl> & <dbl> & <dbl> & <chr>\\\\\n",
       "\\hline\n",
       "\t 2011 & 0.2695249 & 0.21734806 & 0.03932433 & divorce\\_number\\_per\\_population\\\\\n",
       "\t 2012 & 0.2029666 & 0.14603562 & 0.07990552 & divorce\\_number\\_per\\_population\\\\\n",
       "\t 2013 & 0.1593572 & 0.09931133 & 0.12558089 & divorce\\_number\\_per\\_population\\\\\n",
       "\t 2014 & 0.2740330 & 0.22217818 & 0.03743318 & divorce\\_number\\_per\\_population\\\\\n",
       "\t 2015 & 0.2418042 & 0.18764732 & 0.05303811 & divorce\\_number\\_per\\_population\\\\\n",
       "\t 2016 & 0.2487755 & 0.19511664 & 0.04922332 & divorce\\_number\\_per\\_population\\\\\n",
       "\\end{tabular}\n"
      ],
      "text/markdown": [
       "\n",
       "A tibble: 6 × 5\n",
       "\n",
       "| year &lt;fct&gt; | r_squared &lt;dbl&gt; | r_adj &lt;dbl&gt; | p_value &lt;dbl&gt; | variable &lt;chr&gt; |\n",
       "|---|---|---|---|---|\n",
       "| 2011 | 0.2695249 | 0.21734806 | 0.03932433 | divorce_number_per_population |\n",
       "| 2012 | 0.2029666 | 0.14603562 | 0.07990552 | divorce_number_per_population |\n",
       "| 2013 | 0.1593572 | 0.09931133 | 0.12558089 | divorce_number_per_population |\n",
       "| 2014 | 0.2740330 | 0.22217818 | 0.03743318 | divorce_number_per_population |\n",
       "| 2015 | 0.2418042 | 0.18764732 | 0.05303811 | divorce_number_per_population |\n",
       "| 2016 | 0.2487755 | 0.19511664 | 0.04922332 | divorce_number_per_population |\n",
       "\n"
      ],
      "text/plain": [
       "  year r_squared r_adj      p_value    variable                     \n",
       "1 2011 0.2695249 0.21734806 0.03932433 divorce_number_per_population\n",
       "2 2012 0.2029666 0.14603562 0.07990552 divorce_number_per_population\n",
       "3 2013 0.1593572 0.09931133 0.12558089 divorce_number_per_population\n",
       "4 2014 0.2740330 0.22217818 0.03743318 divorce_number_per_population\n",
       "5 2015 0.2418042 0.18764732 0.05303811 divorce_number_per_population\n",
       "6 2016 0.2487755 0.19511664 0.04922332 divorce_number_per_population"
      ]
     },
     "metadata": {},
     "output_type": "display_data"
    }
   ],
   "source": [
    "aa <- tibble(r_squared = double(), \n",
    "             year  = double(), r_adj = double(),\n",
    "             p_value = double())\n",
    "for(i in 2011:2020){\n",
    "    temp <- summary(unsc_slct %>% filter(year == i) %>%\n",
    "  lm(suicide_rate ~ temperature, data = .))\n",
    "\n",
    "tt <- tibble(year = i, r_squared = temp$r.squared, r_adj = temp$adj.r.squared,\n",
    "              p_value = temp$coefficients[, 4][2])\n",
    "\n",
    "aa <- bind_rows(aa, tt)\n",
    "}\n",
    "relation_value_3 <- aa %>% relocate(year) %>%\n",
    "                  mutate(year = as_factor(year), variable = 'divorce_number_per_population')\n",
    "relation_value_3 %>% head"
   ]
  },
  {
   "cell_type": "code",
   "execution_count": 45,
   "metadata": {
    "vscode": {
     "languageId": "r"
    }
   },
   "outputs": [
    {
     "data": {
      "text/html": [
       "<table class=\"dataframe\">\n",
       "<caption>A tibble: 6 × 5</caption>\n",
       "<thead>\n",
       "\t<tr><th scope=col>year</th><th scope=col>r_squared</th><th scope=col>r_adj</th><th scope=col>p_value</th><th scope=col>variable</th></tr>\n",
       "\t<tr><th scope=col>&lt;fct&gt;</th><th scope=col>&lt;dbl&gt;</th><th scope=col>&lt;dbl&gt;</th><th scope=col>&lt;dbl&gt;</th><th scope=col>&lt;chr&gt;</th></tr>\n",
       "</thead>\n",
       "<tbody>\n",
       "\t<tr><td>2011</td><td>0.2695249</td><td>0.21734806</td><td>0.03932433</td><td>population</td></tr>\n",
       "\t<tr><td>2012</td><td>0.2029666</td><td>0.14603562</td><td>0.07990552</td><td>population</td></tr>\n",
       "\t<tr><td>2013</td><td>0.1593572</td><td>0.09931133</td><td>0.12558089</td><td>population</td></tr>\n",
       "\t<tr><td>2014</td><td>0.2740330</td><td>0.22217818</td><td>0.03743318</td><td>population</td></tr>\n",
       "\t<tr><td>2015</td><td>0.2418042</td><td>0.18764732</td><td>0.05303811</td><td>population</td></tr>\n",
       "\t<tr><td>2016</td><td>0.2487755</td><td>0.19511664</td><td>0.04922332</td><td>population</td></tr>\n",
       "</tbody>\n",
       "</table>\n"
      ],
      "text/latex": [
       "A tibble: 6 × 5\n",
       "\\begin{tabular}{lllll}\n",
       " year & r\\_squared & r\\_adj & p\\_value & variable\\\\\n",
       " <fct> & <dbl> & <dbl> & <dbl> & <chr>\\\\\n",
       "\\hline\n",
       "\t 2011 & 0.2695249 & 0.21734806 & 0.03932433 & population\\\\\n",
       "\t 2012 & 0.2029666 & 0.14603562 & 0.07990552 & population\\\\\n",
       "\t 2013 & 0.1593572 & 0.09931133 & 0.12558089 & population\\\\\n",
       "\t 2014 & 0.2740330 & 0.22217818 & 0.03743318 & population\\\\\n",
       "\t 2015 & 0.2418042 & 0.18764732 & 0.05303811 & population\\\\\n",
       "\t 2016 & 0.2487755 & 0.19511664 & 0.04922332 & population\\\\\n",
       "\\end{tabular}\n"
      ],
      "text/markdown": [
       "\n",
       "A tibble: 6 × 5\n",
       "\n",
       "| year &lt;fct&gt; | r_squared &lt;dbl&gt; | r_adj &lt;dbl&gt; | p_value &lt;dbl&gt; | variable &lt;chr&gt; |\n",
       "|---|---|---|---|---|\n",
       "| 2011 | 0.2695249 | 0.21734806 | 0.03932433 | population |\n",
       "| 2012 | 0.2029666 | 0.14603562 | 0.07990552 | population |\n",
       "| 2013 | 0.1593572 | 0.09931133 | 0.12558089 | population |\n",
       "| 2014 | 0.2740330 | 0.22217818 | 0.03743318 | population |\n",
       "| 2015 | 0.2418042 | 0.18764732 | 0.05303811 | population |\n",
       "| 2016 | 0.2487755 | 0.19511664 | 0.04922332 | population |\n",
       "\n"
      ],
      "text/plain": [
       "  year r_squared r_adj      p_value    variable  \n",
       "1 2011 0.2695249 0.21734806 0.03932433 population\n",
       "2 2012 0.2029666 0.14603562 0.07990552 population\n",
       "3 2013 0.1593572 0.09931133 0.12558089 population\n",
       "4 2014 0.2740330 0.22217818 0.03743318 population\n",
       "5 2015 0.2418042 0.18764732 0.05303811 population\n",
       "6 2016 0.2487755 0.19511664 0.04922332 population"
      ]
     },
     "metadata": {},
     "output_type": "display_data"
    }
   ],
   "source": [
    "aa <- tibble(r_squared = double(), \n",
    "             year  = double(), r_adj = double(),\n",
    "             p_value = double())\n",
    "for(i in 2011:2020){\n",
    "    temp <- summary(unsc_slct %>% filter(year == i) %>%\n",
    "  lm(suicide_rate ~ temperature, data = .))\n",
    "\n",
    "tt <- tibble(year = i, r_squared = temp$r.squared, r_adj = temp$adj.r.squared,\n",
    "              p_value = temp$coefficients[, 4][2])\n",
    "\n",
    "aa <- bind_rows(aa, tt)\n",
    "}\n",
    "relation_value_4 <- aa %>% relocate(year) %>%\n",
    "                  mutate(year = as_factor(year), variable = 'population')\n",
    "relation_value_4 %>% head"
   ]
  },
  {
   "cell_type": "code",
   "execution_count": 46,
   "metadata": {
    "vscode": {
     "languageId": "r"
    }
   },
   "outputs": [
    {
     "data": {
      "text/html": [
       "<table class=\"dataframe\">\n",
       "<caption>A tibble: 6 × 5</caption>\n",
       "<thead>\n",
       "\t<tr><th scope=col>year</th><th scope=col>r_squared</th><th scope=col>r_adj</th><th scope=col>p_value</th><th scope=col>variable</th></tr>\n",
       "\t<tr><th scope=col>&lt;fct&gt;</th><th scope=col>&lt;dbl&gt;</th><th scope=col>&lt;dbl&gt;</th><th scope=col>&lt;dbl&gt;</th><th scope=col>&lt;chr&gt;</th></tr>\n",
       "</thead>\n",
       "<tbody>\n",
       "\t<tr><td>2011</td><td>0.2695249</td><td>0.21734806</td><td>0.03932433</td><td>healthy_life</td></tr>\n",
       "\t<tr><td>2012</td><td>0.2029666</td><td>0.14603562</td><td>0.07990552</td><td>healthy_life</td></tr>\n",
       "\t<tr><td>2013</td><td>0.1593572</td><td>0.09931133</td><td>0.12558089</td><td>healthy_life</td></tr>\n",
       "\t<tr><td>2014</td><td>0.2740330</td><td>0.22217818</td><td>0.03743318</td><td>healthy_life</td></tr>\n",
       "\t<tr><td>2015</td><td>0.2418042</td><td>0.18764732</td><td>0.05303811</td><td>healthy_life</td></tr>\n",
       "\t<tr><td>2016</td><td>0.2487755</td><td>0.19511664</td><td>0.04922332</td><td>healthy_life</td></tr>\n",
       "</tbody>\n",
       "</table>\n"
      ],
      "text/latex": [
       "A tibble: 6 × 5\n",
       "\\begin{tabular}{lllll}\n",
       " year & r\\_squared & r\\_adj & p\\_value & variable\\\\\n",
       " <fct> & <dbl> & <dbl> & <dbl> & <chr>\\\\\n",
       "\\hline\n",
       "\t 2011 & 0.2695249 & 0.21734806 & 0.03932433 & healthy\\_life\\\\\n",
       "\t 2012 & 0.2029666 & 0.14603562 & 0.07990552 & healthy\\_life\\\\\n",
       "\t 2013 & 0.1593572 & 0.09931133 & 0.12558089 & healthy\\_life\\\\\n",
       "\t 2014 & 0.2740330 & 0.22217818 & 0.03743318 & healthy\\_life\\\\\n",
       "\t 2015 & 0.2418042 & 0.18764732 & 0.05303811 & healthy\\_life\\\\\n",
       "\t 2016 & 0.2487755 & 0.19511664 & 0.04922332 & healthy\\_life\\\\\n",
       "\\end{tabular}\n"
      ],
      "text/markdown": [
       "\n",
       "A tibble: 6 × 5\n",
       "\n",
       "| year &lt;fct&gt; | r_squared &lt;dbl&gt; | r_adj &lt;dbl&gt; | p_value &lt;dbl&gt; | variable &lt;chr&gt; |\n",
       "|---|---|---|---|---|\n",
       "| 2011 | 0.2695249 | 0.21734806 | 0.03932433 | healthy_life |\n",
       "| 2012 | 0.2029666 | 0.14603562 | 0.07990552 | healthy_life |\n",
       "| 2013 | 0.1593572 | 0.09931133 | 0.12558089 | healthy_life |\n",
       "| 2014 | 0.2740330 | 0.22217818 | 0.03743318 | healthy_life |\n",
       "| 2015 | 0.2418042 | 0.18764732 | 0.05303811 | healthy_life |\n",
       "| 2016 | 0.2487755 | 0.19511664 | 0.04922332 | healthy_life |\n",
       "\n"
      ],
      "text/plain": [
       "  year r_squared r_adj      p_value    variable    \n",
       "1 2011 0.2695249 0.21734806 0.03932433 healthy_life\n",
       "2 2012 0.2029666 0.14603562 0.07990552 healthy_life\n",
       "3 2013 0.1593572 0.09931133 0.12558089 healthy_life\n",
       "4 2014 0.2740330 0.22217818 0.03743318 healthy_life\n",
       "5 2015 0.2418042 0.18764732 0.05303811 healthy_life\n",
       "6 2016 0.2487755 0.19511664 0.04922332 healthy_life"
      ]
     },
     "metadata": {},
     "output_type": "display_data"
    }
   ],
   "source": [
    "aa <- tibble(r_squared = double(), \n",
    "             year  = double(), r_adj = double(),\n",
    "             p_value = double())\n",
    "for(i in 2011:2020){\n",
    "    temp <- summary(unsc_slct %>% filter(year == i) %>%\n",
    "  lm(suicide_rate ~ temperature, data = .))\n",
    "\n",
    "tt <- tibble(year = i, r_squared = temp$r.squared, r_adj = temp$adj.r.squared,\n",
    "              p_value = temp$coefficients[, 4][2])\n",
    "\n",
    "aa <- bind_rows(aa, tt)\n",
    "}\n",
    "relation_value_5 <- aa %>% relocate(year) %>%\n",
    "                  mutate(year = as_factor(year), variable = 'healthy_life')\n",
    "relation_value_5 %>% head"
   ]
  },
  {
   "cell_type": "code",
   "execution_count": 47,
   "metadata": {
    "vscode": {
     "languageId": "r"
    }
   },
   "outputs": [
    {
     "data": {
      "text/html": [
       "<table class=\"dataframe\">\n",
       "<caption>A tibble: 6 × 5</caption>\n",
       "<thead>\n",
       "\t<tr><th scope=col>year</th><th scope=col>r_squared</th><th scope=col>r_adj</th><th scope=col>p_value</th><th scope=col>variable</th></tr>\n",
       "\t<tr><th scope=col>&lt;fct&gt;</th><th scope=col>&lt;dbl&gt;</th><th scope=col>&lt;dbl&gt;</th><th scope=col>&lt;dbl&gt;</th><th scope=col>&lt;fct&gt;</th></tr>\n",
       "</thead>\n",
       "<tbody>\n",
       "\t<tr><td>2011</td><td>0.2695249</td><td>0.21734806</td><td>0.03932433</td><td>temperature</td></tr>\n",
       "\t<tr><td>2012</td><td>0.2029666</td><td>0.14603562</td><td>0.07990552</td><td>temperature</td></tr>\n",
       "\t<tr><td>2013</td><td>0.1593572</td><td>0.09931133</td><td>0.12558089</td><td>temperature</td></tr>\n",
       "\t<tr><td>2014</td><td>0.2740330</td><td>0.22217818</td><td>0.03743318</td><td>temperature</td></tr>\n",
       "\t<tr><td>2015</td><td>0.2418042</td><td>0.18764732</td><td>0.05303811</td><td>temperature</td></tr>\n",
       "\t<tr><td>2016</td><td>0.2487755</td><td>0.19511664</td><td>0.04922332</td><td>temperature</td></tr>\n",
       "</tbody>\n",
       "</table>\n"
      ],
      "text/latex": [
       "A tibble: 6 × 5\n",
       "\\begin{tabular}{lllll}\n",
       " year & r\\_squared & r\\_adj & p\\_value & variable\\\\\n",
       " <fct> & <dbl> & <dbl> & <dbl> & <fct>\\\\\n",
       "\\hline\n",
       "\t 2011 & 0.2695249 & 0.21734806 & 0.03932433 & temperature\\\\\n",
       "\t 2012 & 0.2029666 & 0.14603562 & 0.07990552 & temperature\\\\\n",
       "\t 2013 & 0.1593572 & 0.09931133 & 0.12558089 & temperature\\\\\n",
       "\t 2014 & 0.2740330 & 0.22217818 & 0.03743318 & temperature\\\\\n",
       "\t 2015 & 0.2418042 & 0.18764732 & 0.05303811 & temperature\\\\\n",
       "\t 2016 & 0.2487755 & 0.19511664 & 0.04922332 & temperature\\\\\n",
       "\\end{tabular}\n"
      ],
      "text/markdown": [
       "\n",
       "A tibble: 6 × 5\n",
       "\n",
       "| year &lt;fct&gt; | r_squared &lt;dbl&gt; | r_adj &lt;dbl&gt; | p_value &lt;dbl&gt; | variable &lt;fct&gt; |\n",
       "|---|---|---|---|---|\n",
       "| 2011 | 0.2695249 | 0.21734806 | 0.03932433 | temperature |\n",
       "| 2012 | 0.2029666 | 0.14603562 | 0.07990552 | temperature |\n",
       "| 2013 | 0.1593572 | 0.09931133 | 0.12558089 | temperature |\n",
       "| 2014 | 0.2740330 | 0.22217818 | 0.03743318 | temperature |\n",
       "| 2015 | 0.2418042 | 0.18764732 | 0.05303811 | temperature |\n",
       "| 2016 | 0.2487755 | 0.19511664 | 0.04922332 | temperature |\n",
       "\n"
      ],
      "text/plain": [
       "  year r_squared r_adj      p_value    variable   \n",
       "1 2011 0.2695249 0.21734806 0.03932433 temperature\n",
       "2 2012 0.2029666 0.14603562 0.07990552 temperature\n",
       "3 2013 0.1593572 0.09931133 0.12558089 temperature\n",
       "4 2014 0.2740330 0.22217818 0.03743318 temperature\n",
       "5 2015 0.2418042 0.18764732 0.05303811 temperature\n",
       "6 2016 0.2487755 0.19511664 0.04922332 temperature"
      ]
     },
     "metadata": {},
     "output_type": "display_data"
    }
   ],
   "source": [
    "combined_cor <- tibble()\n",
    "combined_cor <- bind_rows(combined_cor, relation_value_1)\n",
    "combined_cor <- bind_rows(combined_cor, relation_value_2)\n",
    "combined_cor <- bind_rows(combined_cor, relation_value_3)\n",
    "combined_cor <- bind_rows(combined_cor, relation_value_4)\n",
    "combined_cor <- bind_rows(combined_cor, relation_value_5)\n",
    "\n",
    "combined_cor <- combined_cor %>% mutate(variable = as_factor(variable))\n",
    "combined_cor %>% head()"
   ]
  },
  {
   "cell_type": "code",
   "execution_count": 48,
   "metadata": {
    "vscode": {
     "languageId": "r"
    }
   },
   "outputs": [],
   "source": [
    "write.csv(combined_cor, \"lm_data_pvalue.csv\")"
   ]
  },
  {
   "cell_type": "code",
   "execution_count": 49,
   "metadata": {
    "vscode": {
     "languageId": "r"
    }
   },
   "outputs": [
    {
     "data": {
      "text/html": [
       "<table class=\"dataframe\">\n",
       "<caption>A tibble: 10 × 5</caption>\n",
       "<thead>\n",
       "\t<tr><th scope=col>year</th><th scope=col>r_squared</th><th scope=col>r_adj</th><th scope=col>p_value</th><th scope=col>variable</th></tr>\n",
       "\t<tr><th scope=col>&lt;fct&gt;</th><th scope=col>&lt;dbl&gt;</th><th scope=col>&lt;dbl&gt;</th><th scope=col>&lt;dbl&gt;</th><th scope=col>&lt;chr&gt;</th></tr>\n",
       "</thead>\n",
       "<tbody>\n",
       "\t<tr><td>2011</td><td>0.269524853</td><td> 0.217348057</td><td>0.03932433</td><td>temperature</td></tr>\n",
       "\t<tr><td>2012</td><td>0.202966577</td><td> 0.146035619</td><td>0.07990552</td><td>temperature</td></tr>\n",
       "\t<tr><td>2013</td><td>0.159357241</td><td> 0.099311329</td><td>0.12558089</td><td>temperature</td></tr>\n",
       "\t<tr><td>2014</td><td>0.274032971</td><td> 0.222178183</td><td>0.03743318</td><td>temperature</td></tr>\n",
       "\t<tr><td>2015</td><td>0.241804162</td><td> 0.187647316</td><td>0.05303811</td><td>temperature</td></tr>\n",
       "\t<tr><td>2016</td><td>0.248775534</td><td> 0.195116644</td><td>0.04922332</td><td>temperature</td></tr>\n",
       "\t<tr><td>2017</td><td>0.064602121</td><td>-0.002212013</td><td>0.34214531</td><td>temperature</td></tr>\n",
       "\t<tr><td>2018</td><td>0.028397971</td><td>-0.041002174</td><td>0.53270872</td><td>temperature</td></tr>\n",
       "\t<tr><td>2019</td><td>0.006052561</td><td>-0.064943684</td><td>0.77458452</td><td>temperature</td></tr>\n",
       "\t<tr><td>2020</td><td>0.022874337</td><td>-0.046920353</td><td>0.57607319</td><td>temperature</td></tr>\n",
       "</tbody>\n",
       "</table>\n"
      ],
      "text/latex": [
       "A tibble: 10 × 5\n",
       "\\begin{tabular}{lllll}\n",
       " year & r\\_squared & r\\_adj & p\\_value & variable\\\\\n",
       " <fct> & <dbl> & <dbl> & <dbl> & <chr>\\\\\n",
       "\\hline\n",
       "\t 2011 & 0.269524853 &  0.217348057 & 0.03932433 & temperature\\\\\n",
       "\t 2012 & 0.202966577 &  0.146035619 & 0.07990552 & temperature\\\\\n",
       "\t 2013 & 0.159357241 &  0.099311329 & 0.12558089 & temperature\\\\\n",
       "\t 2014 & 0.274032971 &  0.222178183 & 0.03743318 & temperature\\\\\n",
       "\t 2015 & 0.241804162 &  0.187647316 & 0.05303811 & temperature\\\\\n",
       "\t 2016 & 0.248775534 &  0.195116644 & 0.04922332 & temperature\\\\\n",
       "\t 2017 & 0.064602121 & -0.002212013 & 0.34214531 & temperature\\\\\n",
       "\t 2018 & 0.028397971 & -0.041002174 & 0.53270872 & temperature\\\\\n",
       "\t 2019 & 0.006052561 & -0.064943684 & 0.77458452 & temperature\\\\\n",
       "\t 2020 & 0.022874337 & -0.046920353 & 0.57607319 & temperature\\\\\n",
       "\\end{tabular}\n"
      ],
      "text/markdown": [
       "\n",
       "A tibble: 10 × 5\n",
       "\n",
       "| year &lt;fct&gt; | r_squared &lt;dbl&gt; | r_adj &lt;dbl&gt; | p_value &lt;dbl&gt; | variable &lt;chr&gt; |\n",
       "|---|---|---|---|---|\n",
       "| 2011 | 0.269524853 |  0.217348057 | 0.03932433 | temperature |\n",
       "| 2012 | 0.202966577 |  0.146035619 | 0.07990552 | temperature |\n",
       "| 2013 | 0.159357241 |  0.099311329 | 0.12558089 | temperature |\n",
       "| 2014 | 0.274032971 |  0.222178183 | 0.03743318 | temperature |\n",
       "| 2015 | 0.241804162 |  0.187647316 | 0.05303811 | temperature |\n",
       "| 2016 | 0.248775534 |  0.195116644 | 0.04922332 | temperature |\n",
       "| 2017 | 0.064602121 | -0.002212013 | 0.34214531 | temperature |\n",
       "| 2018 | 0.028397971 | -0.041002174 | 0.53270872 | temperature |\n",
       "| 2019 | 0.006052561 | -0.064943684 | 0.77458452 | temperature |\n",
       "| 2020 | 0.022874337 | -0.046920353 | 0.57607319 | temperature |\n",
       "\n"
      ],
      "text/plain": [
       "   year r_squared   r_adj        p_value    variable   \n",
       "1  2011 0.269524853  0.217348057 0.03932433 temperature\n",
       "2  2012 0.202966577  0.146035619 0.07990552 temperature\n",
       "3  2013 0.159357241  0.099311329 0.12558089 temperature\n",
       "4  2014 0.274032971  0.222178183 0.03743318 temperature\n",
       "5  2015 0.241804162  0.187647316 0.05303811 temperature\n",
       "6  2016 0.248775534  0.195116644 0.04922332 temperature\n",
       "7  2017 0.064602121 -0.002212013 0.34214531 temperature\n",
       "8  2018 0.028397971 -0.041002174 0.53270872 temperature\n",
       "9  2019 0.006052561 -0.064943684 0.77458452 temperature\n",
       "10 2020 0.022874337 -0.046920353 0.57607319 temperature"
      ]
     },
     "metadata": {},
     "output_type": "display_data"
    }
   ],
   "source": [
    "relation_value_1 "
   ]
  },
  {
   "cell_type": "code",
   "execution_count": null,
   "metadata": {
    "vscode": {
     "languageId": "r"
    }
   },
   "outputs": [],
   "source": []
  }
 ],
 "metadata": {
  "kernelspec": {
   "display_name": "R",
   "language": "R",
   "name": "ir"
  },
  "language_info": {
   "codemirror_mode": "r",
   "file_extension": ".r",
   "mimetype": "text/x-r-source",
   "name": "R",
   "pygments_lexer": "r",
   "version": "4.2.0"
  },
  "orig_nbformat": 4
 },
 "nbformat": 4,
 "nbformat_minor": 2
}
