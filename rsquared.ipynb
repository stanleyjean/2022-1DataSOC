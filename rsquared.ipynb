{
 "cells": [
  {
   "cell_type": "code",
   "execution_count": 1,
   "metadata": {
    "vscode": {
     "languageId": "r"
    }
   },
   "outputs": [
    {
     "name": "stderr",
     "output_type": "stream",
     "text": [
      "── \u001b[1mAttaching packages\u001b[22m ─────────────────────────────────────── tidyverse 1.3.1 ──\n",
      "\n",
      "\u001b[32m✔\u001b[39m \u001b[34mggplot2\u001b[39m 3.3.6     \u001b[32m✔\u001b[39m \u001b[34mpurrr  \u001b[39m 0.3.4\n",
      "\u001b[32m✔\u001b[39m \u001b[34mtibble \u001b[39m 3.1.7     \u001b[32m✔\u001b[39m \u001b[34mdplyr  \u001b[39m 1.0.9\n",
      "\u001b[32m✔\u001b[39m \u001b[34mtidyr  \u001b[39m 1.2.0     \u001b[32m✔\u001b[39m \u001b[34mstringr\u001b[39m 1.4.0\n",
      "\u001b[32m✔\u001b[39m \u001b[34mreadr  \u001b[39m 2.1.2     \u001b[32m✔\u001b[39m \u001b[34mforcats\u001b[39m 0.5.1\n",
      "\n",
      "── \u001b[1mConflicts\u001b[22m ────────────────────────────────────────── tidyverse_conflicts() ──\n",
      "\u001b[31m✖\u001b[39m \u001b[34mdplyr\u001b[39m::\u001b[32mfilter()\u001b[39m masks \u001b[34mstats\u001b[39m::filter()\n",
      "\u001b[31m✖\u001b[39m \u001b[34mdplyr\u001b[39m::\u001b[32mlag()\u001b[39m    masks \u001b[34mstats\u001b[39m::lag()\n",
      "\n"
     ]
    },
    {
     "data": {
      "text/html": [
       "'C:/A/FINAL/data'"
      ],
      "text/latex": [
       "'C:/A/FINAL/data'"
      ],
      "text/markdown": [
       "'C:/A/FINAL/data'"
      ],
      "text/plain": [
       "[1] \"C:/A/FINAL/data\""
      ]
     },
     "metadata": {},
     "output_type": "display_data"
    }
   ],
   "source": [
    "library(tidyverse)\n",
    "library(ggthemes)\n",
    "setwd(\"C:/A/FINAL/data\")\n",
    "getwd()"
   ]
  },
  {
   "cell_type": "code",
   "execution_count": 2,
   "metadata": {
    "vscode": {
     "languageId": "r"
    }
   },
   "outputs": [
    {
     "data": {
      "text/html": [
       "<style>\n",
       ".list-inline {list-style: none; margin:0; padding: 0}\n",
       ".list-inline>li {display: inline-block}\n",
       ".list-inline>li:not(:last-child)::after {content: \"\\00b7\"; padding: 0 .5ex}\n",
       "</style>\n",
       "<ol class=list-inline><li>'c1'</li><li>'c11'</li><li>'c12'</li><li>'c13'</li><li>'c14'</li><li>'c15'</li><li>'ccc'</li><li>'cor_un'</li><li>'data_label'</li><li>'extracted_data'</li><li>'filename'</li><li>'i'</li><li>'kr_data'</li><li>'ll'</li><li>'lm_data'</li><li>'mean_suicide_rate'</li><li>'mycolors'</li><li>'mydata'</li><li>'nb.cols'</li><li>'reason'</li><li>'ref'</li><li>'region_name'</li><li>'region_name_KR'</li><li>'suicide_rate'</li><li>'temp'</li><li>'temp1'</li><li>'the_whole_data_of_all_vars'</li><li>'unsc_slct'</li><li>'var_data'</li></ol>\n"
      ],
      "text/latex": [
       "\\begin{enumerate*}\n",
       "\\item 'c1'\n",
       "\\item 'c11'\n",
       "\\item 'c12'\n",
       "\\item 'c13'\n",
       "\\item 'c14'\n",
       "\\item 'c15'\n",
       "\\item 'ccc'\n",
       "\\item 'cor\\_un'\n",
       "\\item 'data\\_label'\n",
       "\\item 'extracted\\_data'\n",
       "\\item 'filename'\n",
       "\\item 'i'\n",
       "\\item 'kr\\_data'\n",
       "\\item 'll'\n",
       "\\item 'lm\\_data'\n",
       "\\item 'mean\\_suicide\\_rate'\n",
       "\\item 'mycolors'\n",
       "\\item 'mydata'\n",
       "\\item 'nb.cols'\n",
       "\\item 'reason'\n",
       "\\item 'ref'\n",
       "\\item 'region\\_name'\n",
       "\\item 'region\\_name\\_KR'\n",
       "\\item 'suicide\\_rate'\n",
       "\\item 'temp'\n",
       "\\item 'temp1'\n",
       "\\item 'the\\_whole\\_data\\_of\\_all\\_vars'\n",
       "\\item 'unsc\\_slct'\n",
       "\\item 'var\\_data'\n",
       "\\end{enumerate*}\n"
      ],
      "text/markdown": [
       "1. 'c1'\n",
       "2. 'c11'\n",
       "3. 'c12'\n",
       "4. 'c13'\n",
       "5. 'c14'\n",
       "6. 'c15'\n",
       "7. 'ccc'\n",
       "8. 'cor_un'\n",
       "9. 'data_label'\n",
       "10. 'extracted_data'\n",
       "11. 'filename'\n",
       "12. 'i'\n",
       "13. 'kr_data'\n",
       "14. 'll'\n",
       "15. 'lm_data'\n",
       "16. 'mean_suicide_rate'\n",
       "17. 'mycolors'\n",
       "18. 'mydata'\n",
       "19. 'nb.cols'\n",
       "20. 'reason'\n",
       "21. 'ref'\n",
       "22. 'region_name'\n",
       "23. 'region_name_KR'\n",
       "24. 'suicide_rate'\n",
       "25. 'temp'\n",
       "26. 'temp1'\n",
       "27. 'the_whole_data_of_all_vars'\n",
       "28. 'unsc_slct'\n",
       "29. 'var_data'\n",
       "\n",
       "\n"
      ],
      "text/plain": [
       " [1] \"c1\"                         \"c11\"                       \n",
       " [3] \"c12\"                        \"c13\"                       \n",
       " [5] \"c14\"                        \"c15\"                       \n",
       " [7] \"ccc\"                        \"cor_un\"                    \n",
       " [9] \"data_label\"                 \"extracted_data\"            \n",
       "[11] \"filename\"                   \"i\"                         \n",
       "[13] \"kr_data\"                    \"ll\"                        \n",
       "[15] \"lm_data\"                    \"mean_suicide_rate\"         \n",
       "[17] \"mycolors\"                   \"mydata\"                    \n",
       "[19] \"nb.cols\"                    \"reason\"                    \n",
       "[21] \"ref\"                        \"region_name\"               \n",
       "[23] \"region_name_KR\"             \"suicide_rate\"              \n",
       "[25] \"temp\"                       \"temp1\"                     \n",
       "[27] \"the_whole_data_of_all_vars\" \"unsc_slct\"                 \n",
       "[29] \"var_data\"                  "
      ]
     },
     "metadata": {},
     "output_type": "display_data"
    }
   ],
   "source": [
    "load(\"usage.RData\")\n",
    "ls()"
   ]
  },
  {
   "cell_type": "code",
   "execution_count": 3,
   "metadata": {
    "vscode": {
     "languageId": "r"
    }
   },
   "outputs": [],
   "source": [
    "unsc_slct <- unsc_slct %>% mutate(year = as.numeric(as.character(year)))"
   ]
  },
  {
   "cell_type": "code",
   "execution_count": 4,
   "metadata": {
    "vscode": {
     "languageId": "r"
    }
   },
   "outputs": [
    {
     "data": {
      "text/html": [
       "<table class=\"dataframe\">\n",
       "<caption>A tibble: 10 × 1</caption>\n",
       "<thead>\n",
       "\t<tr><th scope=col>year</th></tr>\n",
       "\t<tr><th scope=col>&lt;dbl&gt;</th></tr>\n",
       "</thead>\n",
       "<tbody>\n",
       "\t<tr><td>2011</td></tr>\n",
       "\t<tr><td>2012</td></tr>\n",
       "\t<tr><td>2013</td></tr>\n",
       "\t<tr><td>2014</td></tr>\n",
       "\t<tr><td>2015</td></tr>\n",
       "\t<tr><td>2016</td></tr>\n",
       "\t<tr><td>2017</td></tr>\n",
       "\t<tr><td>2018</td></tr>\n",
       "\t<tr><td>2019</td></tr>\n",
       "\t<tr><td>2020</td></tr>\n",
       "</tbody>\n",
       "</table>\n"
      ],
      "text/latex": [
       "A tibble: 10 × 1\n",
       "\\begin{tabular}{l}\n",
       " year\\\\\n",
       " <dbl>\\\\\n",
       "\\hline\n",
       "\t 2011\\\\\n",
       "\t 2012\\\\\n",
       "\t 2013\\\\\n",
       "\t 2014\\\\\n",
       "\t 2015\\\\\n",
       "\t 2016\\\\\n",
       "\t 2017\\\\\n",
       "\t 2018\\\\\n",
       "\t 2019\\\\\n",
       "\t 2020\\\\\n",
       "\\end{tabular}\n"
      ],
      "text/markdown": [
       "\n",
       "A tibble: 10 × 1\n",
       "\n",
       "| year &lt;dbl&gt; |\n",
       "|---|\n",
       "| 2011 |\n",
       "| 2012 |\n",
       "| 2013 |\n",
       "| 2014 |\n",
       "| 2015 |\n",
       "| 2016 |\n",
       "| 2017 |\n",
       "| 2018 |\n",
       "| 2019 |\n",
       "| 2020 |\n",
       "\n"
      ],
      "text/plain": [
       "   year\n",
       "1  2011\n",
       "2  2012\n",
       "3  2013\n",
       "4  2014\n",
       "5  2015\n",
       "6  2016\n",
       "7  2017\n",
       "8  2018\n",
       "9  2019\n",
       "10 2020"
      ]
     },
     "metadata": {},
     "output_type": "display_data"
    }
   ],
   "source": [
    "year <- unique(unsc_slct %>% select(year))\n",
    "year"
   ]
  },
  {
   "cell_type": "code",
   "execution_count": 5,
   "metadata": {
    "vscode": {
     "languageId": "r"
    }
   },
   "outputs": [
    {
     "data": {
      "text/html": [
       "<table class=\"dataframe\">\n",
       "<caption>A tibble: 6 × 4</caption>\n",
       "<thead>\n",
       "\t<tr><th scope=col>year</th><th scope=col>r_squared</th><th scope=col>r_adj</th><th scope=col>variable</th></tr>\n",
       "\t<tr><th scope=col>&lt;fct&gt;</th><th scope=col>&lt;dbl&gt;</th><th scope=col>&lt;dbl&gt;</th><th scope=col>&lt;chr&gt;</th></tr>\n",
       "</thead>\n",
       "<tbody>\n",
       "\t<tr><td>2011</td><td>0.2695249</td><td>0.21734806</td><td>temperature</td></tr>\n",
       "\t<tr><td>2012</td><td>0.2029666</td><td>0.14603562</td><td>temperature</td></tr>\n",
       "\t<tr><td>2013</td><td>0.1593572</td><td>0.09931133</td><td>temperature</td></tr>\n",
       "\t<tr><td>2014</td><td>0.2740330</td><td>0.22217818</td><td>temperature</td></tr>\n",
       "\t<tr><td>2015</td><td>0.2418042</td><td>0.18764732</td><td>temperature</td></tr>\n",
       "\t<tr><td>2016</td><td>0.2487755</td><td>0.19511664</td><td>temperature</td></tr>\n",
       "</tbody>\n",
       "</table>\n"
      ],
      "text/latex": [
       "A tibble: 6 × 4\n",
       "\\begin{tabular}{llll}\n",
       " year & r\\_squared & r\\_adj & variable\\\\\n",
       " <fct> & <dbl> & <dbl> & <chr>\\\\\n",
       "\\hline\n",
       "\t 2011 & 0.2695249 & 0.21734806 & temperature\\\\\n",
       "\t 2012 & 0.2029666 & 0.14603562 & temperature\\\\\n",
       "\t 2013 & 0.1593572 & 0.09931133 & temperature\\\\\n",
       "\t 2014 & 0.2740330 & 0.22217818 & temperature\\\\\n",
       "\t 2015 & 0.2418042 & 0.18764732 & temperature\\\\\n",
       "\t 2016 & 0.2487755 & 0.19511664 & temperature\\\\\n",
       "\\end{tabular}\n"
      ],
      "text/markdown": [
       "\n",
       "A tibble: 6 × 4\n",
       "\n",
       "| year &lt;fct&gt; | r_squared &lt;dbl&gt; | r_adj &lt;dbl&gt; | variable &lt;chr&gt; |\n",
       "|---|---|---|---|\n",
       "| 2011 | 0.2695249 | 0.21734806 | temperature |\n",
       "| 2012 | 0.2029666 | 0.14603562 | temperature |\n",
       "| 2013 | 0.1593572 | 0.09931133 | temperature |\n",
       "| 2014 | 0.2740330 | 0.22217818 | temperature |\n",
       "| 2015 | 0.2418042 | 0.18764732 | temperature |\n",
       "| 2016 | 0.2487755 | 0.19511664 | temperature |\n",
       "\n"
      ],
      "text/plain": [
       "  year r_squared r_adj      variable   \n",
       "1 2011 0.2695249 0.21734806 temperature\n",
       "2 2012 0.2029666 0.14603562 temperature\n",
       "3 2013 0.1593572 0.09931133 temperature\n",
       "4 2014 0.2740330 0.22217818 temperature\n",
       "5 2015 0.2418042 0.18764732 temperature\n",
       "6 2016 0.2487755 0.19511664 temperature"
      ]
     },
     "metadata": {},
     "output_type": "display_data"
    }
   ],
   "source": [
    "aa <- tibble(r_squared = double(), \n",
    "             year  = double(), r_adj = double())\n",
    "for(i in 2011:2020){\n",
    "    temp <- summary(unsc_slct %>% filter(year == i) %>%\n",
    "  lm(suicide_rate ~ temperature, data = .))\n",
    "\n",
    "tt <- tibble(year = i, r_squared = temp$r.squared, r_adj = temp$adj.r.squared)\n",
    "\n",
    "aa <- bind_rows(aa, tt)\n",
    "}\n",
    "relation_value_1 <- aa %>% relocate(year) %>%\n",
    "                  mutate(year = as_factor(year), variable = 'temperature')\n",
    "relation_value_1 %>% head"
   ]
  },
  {
   "cell_type": "code",
   "execution_count": 6,
   "metadata": {
    "vscode": {
     "languageId": "r"
    }
   },
   "outputs": [
    {
     "data": {
      "text/html": [
       "<table class=\"dataframe\">\n",
       "<caption>A tibble: 6 × 4</caption>\n",
       "<thead>\n",
       "\t<tr><th scope=col>year</th><th scope=col>r_squared</th><th scope=col>r_adj</th><th scope=col>variable</th></tr>\n",
       "\t<tr><th scope=col>&lt;fct&gt;</th><th scope=col>&lt;dbl&gt;</th><th scope=col>&lt;dbl&gt;</th><th scope=col>&lt;chr&gt;</th></tr>\n",
       "</thead>\n",
       "<tbody>\n",
       "\t<tr><td>2011</td><td>0.3987632</td><td>0.3558177</td><td>income_per_capita</td></tr>\n",
       "\t<tr><td>2012</td><td>0.4540420</td><td>0.4150450</td><td>income_per_capita</td></tr>\n",
       "\t<tr><td>2013</td><td>0.3365822</td><td>0.2891952</td><td>income_per_capita</td></tr>\n",
       "\t<tr><td>2014</td><td>0.2762604</td><td>0.2245647</td><td>income_per_capita</td></tr>\n",
       "\t<tr><td>2015</td><td>0.2815043</td><td>0.2301831</td><td>income_per_capita</td></tr>\n",
       "\t<tr><td>2016</td><td>0.4706620</td><td>0.4328522</td><td>income_per_capita</td></tr>\n",
       "</tbody>\n",
       "</table>\n"
      ],
      "text/latex": [
       "A tibble: 6 × 4\n",
       "\\begin{tabular}{llll}\n",
       " year & r\\_squared & r\\_adj & variable\\\\\n",
       " <fct> & <dbl> & <dbl> & <chr>\\\\\n",
       "\\hline\n",
       "\t 2011 & 0.3987632 & 0.3558177 & income\\_per\\_capita\\\\\n",
       "\t 2012 & 0.4540420 & 0.4150450 & income\\_per\\_capita\\\\\n",
       "\t 2013 & 0.3365822 & 0.2891952 & income\\_per\\_capita\\\\\n",
       "\t 2014 & 0.2762604 & 0.2245647 & income\\_per\\_capita\\\\\n",
       "\t 2015 & 0.2815043 & 0.2301831 & income\\_per\\_capita\\\\\n",
       "\t 2016 & 0.4706620 & 0.4328522 & income\\_per\\_capita\\\\\n",
       "\\end{tabular}\n"
      ],
      "text/markdown": [
       "\n",
       "A tibble: 6 × 4\n",
       "\n",
       "| year &lt;fct&gt; | r_squared &lt;dbl&gt; | r_adj &lt;dbl&gt; | variable &lt;chr&gt; |\n",
       "|---|---|---|---|\n",
       "| 2011 | 0.3987632 | 0.3558177 | income_per_capita |\n",
       "| 2012 | 0.4540420 | 0.4150450 | income_per_capita |\n",
       "| 2013 | 0.3365822 | 0.2891952 | income_per_capita |\n",
       "| 2014 | 0.2762604 | 0.2245647 | income_per_capita |\n",
       "| 2015 | 0.2815043 | 0.2301831 | income_per_capita |\n",
       "| 2016 | 0.4706620 | 0.4328522 | income_per_capita |\n",
       "\n"
      ],
      "text/plain": [
       "  year r_squared r_adj     variable         \n",
       "1 2011 0.3987632 0.3558177 income_per_capita\n",
       "2 2012 0.4540420 0.4150450 income_per_capita\n",
       "3 2013 0.3365822 0.2891952 income_per_capita\n",
       "4 2014 0.2762604 0.2245647 income_per_capita\n",
       "5 2015 0.2815043 0.2301831 income_per_capita\n",
       "6 2016 0.4706620 0.4328522 income_per_capita"
      ]
     },
     "metadata": {},
     "output_type": "display_data"
    }
   ],
   "source": [
    "aa <- tibble(r_squared = double(), \n",
    "             year  = double(), r_adj = double())\n",
    "for(i in 2011:2020){\n",
    "    temp <- summary(unsc_slct %>% filter(year == i) %>%\n",
    "  lm(suicide_rate ~ income_per_capita, data = .))\n",
    "\n",
    "tt <- tibble(year = i, r_squared = temp$r.squared, r_adj = temp$adj.r.squared)\n",
    "\n",
    "aa <- bind_rows(aa, tt)\n",
    "}\n",
    "relation_value_2 <- aa %>% relocate(year) %>%\n",
    "                  mutate(year = as_factor(year), variable = 'income_per_capita')\n",
    "relation_value_2 %>% head"
   ]
  },
  {
   "cell_type": "code",
   "execution_count": 7,
   "metadata": {
    "vscode": {
     "languageId": "r"
    }
   },
   "outputs": [
    {
     "data": {
      "text/html": [
       "<table class=\"dataframe\">\n",
       "<caption>A tibble: 6 × 4</caption>\n",
       "<thead>\n",
       "\t<tr><th scope=col>year</th><th scope=col>r_squared</th><th scope=col>r_adj</th><th scope=col>variable</th></tr>\n",
       "\t<tr><th scope=col>&lt;fct&gt;</th><th scope=col>&lt;dbl&gt;</th><th scope=col>&lt;dbl&gt;</th><th scope=col>&lt;chr&gt;</th></tr>\n",
       "</thead>\n",
       "<tbody>\n",
       "\t<tr><td>2011</td><td>0.2255146</td><td>0.17019423</td><td>divorce_number_per_population</td></tr>\n",
       "\t<tr><td>2012</td><td>0.1890503</td><td>0.13112536</td><td>divorce_number_per_population</td></tr>\n",
       "\t<tr><td>2013</td><td>0.4303561</td><td>0.38966721</td><td>divorce_number_per_population</td></tr>\n",
       "\t<tr><td>2014</td><td>0.1815002</td><td>0.12303590</td><td>divorce_number_per_population</td></tr>\n",
       "\t<tr><td>2015</td><td>0.1557177</td><td>0.09541177</td><td>divorce_number_per_population</td></tr>\n",
       "\t<tr><td>2016</td><td>0.1269911</td><td>0.06463333</td><td>divorce_number_per_population</td></tr>\n",
       "</tbody>\n",
       "</table>\n"
      ],
      "text/latex": [
       "A tibble: 6 × 4\n",
       "\\begin{tabular}{llll}\n",
       " year & r\\_squared & r\\_adj & variable\\\\\n",
       " <fct> & <dbl> & <dbl> & <chr>\\\\\n",
       "\\hline\n",
       "\t 2011 & 0.2255146 & 0.17019423 & divorce\\_number\\_per\\_population\\\\\n",
       "\t 2012 & 0.1890503 & 0.13112536 & divorce\\_number\\_per\\_population\\\\\n",
       "\t 2013 & 0.4303561 & 0.38966721 & divorce\\_number\\_per\\_population\\\\\n",
       "\t 2014 & 0.1815002 & 0.12303590 & divorce\\_number\\_per\\_population\\\\\n",
       "\t 2015 & 0.1557177 & 0.09541177 & divorce\\_number\\_per\\_population\\\\\n",
       "\t 2016 & 0.1269911 & 0.06463333 & divorce\\_number\\_per\\_population\\\\\n",
       "\\end{tabular}\n"
      ],
      "text/markdown": [
       "\n",
       "A tibble: 6 × 4\n",
       "\n",
       "| year &lt;fct&gt; | r_squared &lt;dbl&gt; | r_adj &lt;dbl&gt; | variable &lt;chr&gt; |\n",
       "|---|---|---|---|\n",
       "| 2011 | 0.2255146 | 0.17019423 | divorce_number_per_population |\n",
       "| 2012 | 0.1890503 | 0.13112536 | divorce_number_per_population |\n",
       "| 2013 | 0.4303561 | 0.38966721 | divorce_number_per_population |\n",
       "| 2014 | 0.1815002 | 0.12303590 | divorce_number_per_population |\n",
       "| 2015 | 0.1557177 | 0.09541177 | divorce_number_per_population |\n",
       "| 2016 | 0.1269911 | 0.06463333 | divorce_number_per_population |\n",
       "\n"
      ],
      "text/plain": [
       "  year r_squared r_adj      variable                     \n",
       "1 2011 0.2255146 0.17019423 divorce_number_per_population\n",
       "2 2012 0.1890503 0.13112536 divorce_number_per_population\n",
       "3 2013 0.4303561 0.38966721 divorce_number_per_population\n",
       "4 2014 0.1815002 0.12303590 divorce_number_per_population\n",
       "5 2015 0.1557177 0.09541177 divorce_number_per_population\n",
       "6 2016 0.1269911 0.06463333 divorce_number_per_population"
      ]
     },
     "metadata": {},
     "output_type": "display_data"
    }
   ],
   "source": [
    "aa <- tibble(r_squared = double(), \n",
    "             year  = double(), r_adj = double())\n",
    "for(i in 2011:2020){\n",
    "    temp <- summary(unsc_slct %>% filter(year == i) %>%\n",
    "  lm(suicide_rate ~ divorce_number_per_population, data = .))\n",
    "\n",
    "tt <- tibble(year = i, r_squared = temp$r.squared, r_adj = temp$adj.r.squared)\n",
    "\n",
    "aa <- bind_rows(aa, tt)\n",
    "}\n",
    "relation_value_3 <- aa %>% relocate(year) %>%\n",
    "                  mutate(year = as_factor(year), variable = 'divorce_number_per_population')\n",
    "relation_value_3 %>% head"
   ]
  },
  {
   "cell_type": "code",
   "execution_count": 8,
   "metadata": {
    "vscode": {
     "languageId": "r"
    }
   },
   "outputs": [
    {
     "data": {
      "text/html": [
       "<table class=\"dataframe\">\n",
       "<caption>A tibble: 6 × 4</caption>\n",
       "<thead>\n",
       "\t<tr><th scope=col>year</th><th scope=col>r_squared</th><th scope=col>r_adj</th><th scope=col>variable</th></tr>\n",
       "\t<tr><th scope=col>&lt;fct&gt;</th><th scope=col>&lt;dbl&gt;</th><th scope=col>&lt;dbl&gt;</th><th scope=col>&lt;chr&gt;</th></tr>\n",
       "</thead>\n",
       "<tbody>\n",
       "\t<tr><td>2011</td><td>0.07316602</td><td> 0.006963592</td><td>population</td></tr>\n",
       "\t<tr><td>2012</td><td>0.10440799</td><td> 0.040437128</td><td>population</td></tr>\n",
       "\t<tr><td>2013</td><td>0.05751797</td><td>-0.009802173</td><td>population</td></tr>\n",
       "\t<tr><td>2014</td><td>0.09950995</td><td> 0.035189235</td><td>population</td></tr>\n",
       "\t<tr><td>2015</td><td>0.07715023</td><td> 0.011232392</td><td>population</td></tr>\n",
       "\t<tr><td>2016</td><td>0.15549864</td><td> 0.095177113</td><td>population</td></tr>\n",
       "</tbody>\n",
       "</table>\n"
      ],
      "text/latex": [
       "A tibble: 6 × 4\n",
       "\\begin{tabular}{llll}\n",
       " year & r\\_squared & r\\_adj & variable\\\\\n",
       " <fct> & <dbl> & <dbl> & <chr>\\\\\n",
       "\\hline\n",
       "\t 2011 & 0.07316602 &  0.006963592 & population\\\\\n",
       "\t 2012 & 0.10440799 &  0.040437128 & population\\\\\n",
       "\t 2013 & 0.05751797 & -0.009802173 & population\\\\\n",
       "\t 2014 & 0.09950995 &  0.035189235 & population\\\\\n",
       "\t 2015 & 0.07715023 &  0.011232392 & population\\\\\n",
       "\t 2016 & 0.15549864 &  0.095177113 & population\\\\\n",
       "\\end{tabular}\n"
      ],
      "text/markdown": [
       "\n",
       "A tibble: 6 × 4\n",
       "\n",
       "| year &lt;fct&gt; | r_squared &lt;dbl&gt; | r_adj &lt;dbl&gt; | variable &lt;chr&gt; |\n",
       "|---|---|---|---|\n",
       "| 2011 | 0.07316602 |  0.006963592 | population |\n",
       "| 2012 | 0.10440799 |  0.040437128 | population |\n",
       "| 2013 | 0.05751797 | -0.009802173 | population |\n",
       "| 2014 | 0.09950995 |  0.035189235 | population |\n",
       "| 2015 | 0.07715023 |  0.011232392 | population |\n",
       "| 2016 | 0.15549864 |  0.095177113 | population |\n",
       "\n"
      ],
      "text/plain": [
       "  year r_squared  r_adj        variable  \n",
       "1 2011 0.07316602  0.006963592 population\n",
       "2 2012 0.10440799  0.040437128 population\n",
       "3 2013 0.05751797 -0.009802173 population\n",
       "4 2014 0.09950995  0.035189235 population\n",
       "5 2015 0.07715023  0.011232392 population\n",
       "6 2016 0.15549864  0.095177113 population"
      ]
     },
     "metadata": {},
     "output_type": "display_data"
    }
   ],
   "source": [
    "aa <- tibble(r_squared = double(), \n",
    "             year  = double(), r_adj = double())\n",
    "for(i in 2011:2020){\n",
    "    temp <- summary(unsc_slct %>% filter(year == i) %>%\n",
    "  lm(suicide_rate ~ population, data = .))\n",
    "\n",
    "tt <- tibble(year = i, r_squared = temp$r.squared, r_adj = temp$adj.r.squared)\n",
    "\n",
    "aa <- bind_rows(aa, tt)\n",
    "} \n",
    "relation_value_4 <- aa %>% relocate(year) %>%\n",
    "                  mutate(year = as_factor(year), variable = 'population')\n",
    "relation_value_4 %>% head"
   ]
  },
  {
   "cell_type": "code",
   "execution_count": 9,
   "metadata": {
    "vscode": {
     "languageId": "r"
    }
   },
   "outputs": [
    {
     "data": {
      "text/html": [
       "<table class=\"dataframe\">\n",
       "<caption>A tibble: 6 × 4</caption>\n",
       "<thead>\n",
       "\t<tr><th scope=col>year</th><th scope=col>r_squared</th><th scope=col>r_adj</th><th scope=col>variable</th></tr>\n",
       "\t<tr><th scope=col>&lt;fct&gt;</th><th scope=col>&lt;dbl&gt;</th><th scope=col>&lt;dbl&gt;</th><th scope=col>&lt;chr&gt;</th></tr>\n",
       "</thead>\n",
       "<tbody>\n",
       "\t<tr><td>2011</td><td>0.2249215</td><td>0.16955878</td><td>healthy_life</td></tr>\n",
       "\t<tr><td>2012</td><td>0.3538472</td><td>0.30769338</td><td>healthy_life</td></tr>\n",
       "\t<tr><td>2013</td><td>0.3595016</td><td>0.31375166</td><td>healthy_life</td></tr>\n",
       "\t<tr><td>2014</td><td>0.1329303</td><td>0.07099672</td><td>healthy_life</td></tr>\n",
       "\t<tr><td>2015</td><td>0.1217336</td><td>0.05900026</td><td>healthy_life</td></tr>\n",
       "\t<tr><td>2016</td><td>0.2060321</td><td>0.14932015</td><td>healthy_life</td></tr>\n",
       "</tbody>\n",
       "</table>\n"
      ],
      "text/latex": [
       "A tibble: 6 × 4\n",
       "\\begin{tabular}{llll}\n",
       " year & r\\_squared & r\\_adj & variable\\\\\n",
       " <fct> & <dbl> & <dbl> & <chr>\\\\\n",
       "\\hline\n",
       "\t 2011 & 0.2249215 & 0.16955878 & healthy\\_life\\\\\n",
       "\t 2012 & 0.3538472 & 0.30769338 & healthy\\_life\\\\\n",
       "\t 2013 & 0.3595016 & 0.31375166 & healthy\\_life\\\\\n",
       "\t 2014 & 0.1329303 & 0.07099672 & healthy\\_life\\\\\n",
       "\t 2015 & 0.1217336 & 0.05900026 & healthy\\_life\\\\\n",
       "\t 2016 & 0.2060321 & 0.14932015 & healthy\\_life\\\\\n",
       "\\end{tabular}\n"
      ],
      "text/markdown": [
       "\n",
       "A tibble: 6 × 4\n",
       "\n",
       "| year &lt;fct&gt; | r_squared &lt;dbl&gt; | r_adj &lt;dbl&gt; | variable &lt;chr&gt; |\n",
       "|---|---|---|---|\n",
       "| 2011 | 0.2249215 | 0.16955878 | healthy_life |\n",
       "| 2012 | 0.3538472 | 0.30769338 | healthy_life |\n",
       "| 2013 | 0.3595016 | 0.31375166 | healthy_life |\n",
       "| 2014 | 0.1329303 | 0.07099672 | healthy_life |\n",
       "| 2015 | 0.1217336 | 0.05900026 | healthy_life |\n",
       "| 2016 | 0.2060321 | 0.14932015 | healthy_life |\n",
       "\n"
      ],
      "text/plain": [
       "  year r_squared r_adj      variable    \n",
       "1 2011 0.2249215 0.16955878 healthy_life\n",
       "2 2012 0.3538472 0.30769338 healthy_life\n",
       "3 2013 0.3595016 0.31375166 healthy_life\n",
       "4 2014 0.1329303 0.07099672 healthy_life\n",
       "5 2015 0.1217336 0.05900026 healthy_life\n",
       "6 2016 0.2060321 0.14932015 healthy_life"
      ]
     },
     "metadata": {},
     "output_type": "display_data"
    }
   ],
   "source": [
    "aa <- tibble(r_squared = double(), \n",
    "             year  = double(), r_adj = double())\n",
    "for(i in 2011:2020){\n",
    "    temp <- summary(unsc_slct %>% filter(year == i) %>%\n",
    "  lm(suicide_rate ~ healthy_life, data = .))\n",
    "\n",
    "tt <- tibble(year = i, r_squared = temp$r.squared, r_adj = temp$adj.r.squared)\n",
    "\n",
    "aa <- bind_rows(aa, tt)\n",
    "} \n",
    "relation_value_5 <- aa %>% relocate(year) %>%\n",
    "                  mutate(year = as_factor(year), variable = 'healthy_life')\n",
    "relation_value_5 %>% head"
   ]
  },
  {
   "cell_type": "code",
   "execution_count": 10,
   "metadata": {
    "vscode": {
     "languageId": "r"
    }
   },
   "outputs": [
    {
     "data": {
      "text/html": [
       "<table class=\"dataframe\">\n",
       "<caption>A tibble: 6 × 4</caption>\n",
       "<thead>\n",
       "\t<tr><th scope=col>year</th><th scope=col>r_squared</th><th scope=col>r_adj</th><th scope=col>variable</th></tr>\n",
       "\t<tr><th scope=col>&lt;fct&gt;</th><th scope=col>&lt;dbl&gt;</th><th scope=col>&lt;dbl&gt;</th><th scope=col>&lt;fct&gt;</th></tr>\n",
       "</thead>\n",
       "<tbody>\n",
       "\t<tr><td>2011</td><td>0.2695249</td><td>0.21734806</td><td>temperature</td></tr>\n",
       "\t<tr><td>2012</td><td>0.2029666</td><td>0.14603562</td><td>temperature</td></tr>\n",
       "\t<tr><td>2013</td><td>0.1593572</td><td>0.09931133</td><td>temperature</td></tr>\n",
       "\t<tr><td>2014</td><td>0.2740330</td><td>0.22217818</td><td>temperature</td></tr>\n",
       "\t<tr><td>2015</td><td>0.2418042</td><td>0.18764732</td><td>temperature</td></tr>\n",
       "\t<tr><td>2016</td><td>0.2487755</td><td>0.19511664</td><td>temperature</td></tr>\n",
       "</tbody>\n",
       "</table>\n"
      ],
      "text/latex": [
       "A tibble: 6 × 4\n",
       "\\begin{tabular}{llll}\n",
       " year & r\\_squared & r\\_adj & variable\\\\\n",
       " <fct> & <dbl> & <dbl> & <fct>\\\\\n",
       "\\hline\n",
       "\t 2011 & 0.2695249 & 0.21734806 & temperature\\\\\n",
       "\t 2012 & 0.2029666 & 0.14603562 & temperature\\\\\n",
       "\t 2013 & 0.1593572 & 0.09931133 & temperature\\\\\n",
       "\t 2014 & 0.2740330 & 0.22217818 & temperature\\\\\n",
       "\t 2015 & 0.2418042 & 0.18764732 & temperature\\\\\n",
       "\t 2016 & 0.2487755 & 0.19511664 & temperature\\\\\n",
       "\\end{tabular}\n"
      ],
      "text/markdown": [
       "\n",
       "A tibble: 6 × 4\n",
       "\n",
       "| year &lt;fct&gt; | r_squared &lt;dbl&gt; | r_adj &lt;dbl&gt; | variable &lt;fct&gt; |\n",
       "|---|---|---|---|\n",
       "| 2011 | 0.2695249 | 0.21734806 | temperature |\n",
       "| 2012 | 0.2029666 | 0.14603562 | temperature |\n",
       "| 2013 | 0.1593572 | 0.09931133 | temperature |\n",
       "| 2014 | 0.2740330 | 0.22217818 | temperature |\n",
       "| 2015 | 0.2418042 | 0.18764732 | temperature |\n",
       "| 2016 | 0.2487755 | 0.19511664 | temperature |\n",
       "\n"
      ],
      "text/plain": [
       "  year r_squared r_adj      variable   \n",
       "1 2011 0.2695249 0.21734806 temperature\n",
       "2 2012 0.2029666 0.14603562 temperature\n",
       "3 2013 0.1593572 0.09931133 temperature\n",
       "4 2014 0.2740330 0.22217818 temperature\n",
       "5 2015 0.2418042 0.18764732 temperature\n",
       "6 2016 0.2487755 0.19511664 temperature"
      ]
     },
     "metadata": {},
     "output_type": "display_data"
    }
   ],
   "source": [
    "combined_cor <- tibble()\n",
    "combined_cor <- bind_rows(combined_cor, relation_value_1)\n",
    "combined_cor <- bind_rows(combined_cor, relation_value_2)\n",
    "combined_cor <- bind_rows(combined_cor, relation_value_3)\n",
    "combined_cor <- bind_rows(combined_cor, relation_value_4)\n",
    "combined_cor <- bind_rows(combined_cor, relation_value_5)\n",
    "\n",
    "combined_cor <- combined_cor %>% mutate(variable = as_factor(variable))\n",
    "combined_cor %>% head()"
   ]
  },
  {
   "cell_type": "code",
   "execution_count": 11,
   "metadata": {
    "vscode": {
     "languageId": "r"
    }
   },
   "outputs": [],
   "source": [
    "write.csv(combined_cor, \"lm_data.csv\")"
   ]
  }
 ],
 "metadata": {
  "kernelspec": {
   "display_name": "R",
   "language": "R",
   "name": "ir"
  },
  "language_info": {
   "codemirror_mode": "r",
   "file_extension": ".r",
   "mimetype": "text/x-r-source",
   "name": "R",
   "pygments_lexer": "r",
   "version": "4.2.0"
  },
  "orig_nbformat": 4
 },
 "nbformat": 4,
 "nbformat_minor": 2
}
